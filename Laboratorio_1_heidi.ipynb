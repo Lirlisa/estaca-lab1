{
 "cells": [
  {
   "cell_type": "markdown",
   "metadata": {},
   "source": [
    "<table style=\"width:100%\">\n",
    "  <tr>\n",
    "    <th align=\"right\"><img src=\"img/dilogo.png\" style=\"float:left;height:90px\"></th>\n",
    "    <th align=\"center\">\n",
    "    <h1 align=\"center\">Laboratorio 1</h1>\n",
    "    <h2 align=\"center\">Profesor: Ricardo Ñanculef</h2>\n",
    "    <h3 align=\"center\">Ayudante: Gabriel Ortega</h3>\n",
    "    <h3 align=\"center\">Maximiliano Ojeda;201773576-7</h3>\n",
    "    <h3 align=\"center\">Harold Caballero;rol</h3>\n",
    "    <h3 align=\"center\">Agosto de 2019</h3>\n",
    "    </th> \n",
    "    <th align=\"left\"><img src=\"img/usmlogo.png\" style=\"float:right;height:85px\"></th>\n",
    "  </tr>"
   ]
  },
  {
   "cell_type": "markdown",
   "metadata": {},
   "source": [
    "> <font size = \"+2\"><b>Antes de corregir se correrá su notebook utilizando la función Cell $\\rightarrow$ Run All.</b></font>\n",
    "\n",
    "\n",
    "## Instrucciones\n",
    "\n",
    "La modalidad de trabajo será mediante el uso de jupyter notebook. El notebook debe ser desarrollado en parejas o individual y ser entregado el 16 de septiembre de 2019.\n",
    "\n",
    "La **modalidad de entrega será un archivo Apellido1_Apellido2_Lab1.zip** que contenga un notebook que incluya todas las preguntas con sus respectivas respuestas, un README que indique la forma correcta de ejecutar su notebook y cualquier archivo/carpeta extra que considere necesario para el correcto funcionamiento de su tarea (no es necesario adjuntar los .csv que se utilicen para trabajar). El laboratorio puede ser trabajado tanto en lenguaje R como en python 3 (para los que usen python 2.X, absténganse a las consecuencias). Lea bien el enunciado.\n",
    "\n",
    "\n",
    "**Cualquier copia detectada implicará nota 0 en el laboratorio correspondiente y se notificará la situación al profesor.**\n",
    "\n",
    "\n"
   ]
  },
  {
   "cell_type": "markdown",
   "metadata": {},
   "source": [
    "## 1. Limpiando Datos (15p)\n",
    "\n",
    "Como se mencionó en la ayudantía de laboratorio, la limpieza de datos es algo importante que se debe realizar antes de trabajar con un conjunto de datos, en esta sección trabajará con el dataset \"limpieza.csv\". Se espera que usted sea capaz de evidenciar las fallas dentro de este dataset y después de realizar la limpieza presente el dataset final resultante para comparar. \n",
    "\n",
    ">**Importante:** Si bien la limpieza es subjetiva, no optará a todo el puntaje de esta sección si presenta una limpieza incompleta (se observa que su dataset final se puede limpiar más a simple vista)."
   ]
  },
  {
   "cell_type": "code",
   "execution_count": 9,
   "metadata": {},
   "outputs": [
    {
     "name": "stdout",
     "output_type": "stream",
     "text": [
      "Wall time: 15 ms\n"
     ]
    },
    {
     "data": {
      "text/html": [
       "<div>\n",
       "<style scoped>\n",
       "    .dataframe tbody tr th:only-of-type {\n",
       "        vertical-align: middle;\n",
       "    }\n",
       "\n",
       "    .dataframe tbody tr th {\n",
       "        vertical-align: top;\n",
       "    }\n",
       "\n",
       "    .dataframe thead th {\n",
       "        text-align: right;\n",
       "    }\n",
       "</style>\n",
       "<table border=\"1\" class=\"dataframe\">\n",
       "  <thead>\n",
       "    <tr style=\"text-align: right;\">\n",
       "      <th></th>\n",
       "      <th>genero</th>\n",
       "      <th>mascota</th>\n",
       "      <th>edad</th>\n",
       "      <th>e_civil</th>\n",
       "      <th>estado_trabajo</th>\n",
       "      <th>salario</th>\n",
       "    </tr>\n",
       "  </thead>\n",
       "  <tbody>\n",
       "    <tr>\n",
       "      <th>0</th>\n",
       "      <td>m</td>\n",
       "      <td>gato</td>\n",
       "      <td>44</td>\n",
       "      <td>viud@</td>\n",
       "      <td>dependiente</td>\n",
       "      <td>500000</td>\n",
       "    </tr>\n",
       "    <tr>\n",
       "      <th>1</th>\n",
       "      <td>m</td>\n",
       "      <td>no</td>\n",
       "      <td>70</td>\n",
       "      <td>casad@</td>\n",
       "      <td>dependiente</td>\n",
       "      <td>100000</td>\n",
       "    </tr>\n",
       "    <tr>\n",
       "      <th>2</th>\n",
       "      <td>f</td>\n",
       "      <td>no</td>\n",
       "      <td>54</td>\n",
       "      <td>solter@</td>\n",
       "      <td>dependiente</td>\n",
       "      <td>500000</td>\n",
       "    </tr>\n",
       "    <tr>\n",
       "      <th>3</th>\n",
       "      <td>m</td>\n",
       "      <td>perro</td>\n",
       "      <td>47</td>\n",
       "      <td>separad@</td>\n",
       "      <td>independiente</td>\n",
       "      <td>200000</td>\n",
       "    </tr>\n",
       "    <tr>\n",
       "      <th>4</th>\n",
       "      <td>f</td>\n",
       "      <td>gato</td>\n",
       "      <td>33</td>\n",
       "      <td>casad@</td>\n",
       "      <td>dependiente</td>\n",
       "      <td>500000</td>\n",
       "    </tr>\n",
       "  </tbody>\n",
       "</table>\n",
       "</div>"
      ],
      "text/plain": [
       "  genero mascota  edad   e_civil estado_trabajo  salario\n",
       "0      m    gato    44     viud@    dependiente   500000\n",
       "1      m      no    70    casad@    dependiente   100000\n",
       "2      f      no    54   solter@    dependiente   500000\n",
       "3      m   perro    47  separad@  independiente   200000\n",
       "4      f    gato    33    casad@    dependiente   500000"
      ]
     },
     "execution_count": 9,
     "metadata": {},
     "output_type": "execute_result"
    }
   ],
   "source": [
    "%%time\n",
    "import pandas as pd\n",
    "\n",
    "def codidifcar_genero(gen):\n",
    "    # Codificacion para la columna \"genero\"\n",
    "    if gen in {'hombre', 'masculino'}:\n",
    "        return 'm'\n",
    "    return 'f'\n",
    "\n",
    "# Se crea el Dataframe\n",
    "dataset = pd.read_csv(\"limpieza.csv\")\n",
    "\n",
    "# Se separa la columna \"trabajo\" en \"estado_trabajo\" y \"salario\". Luego se elimina \"trabajo\".\n",
    "dataset[['estado_trabajo', 'salario']] = dataset.trabajo.str.split('/', expand=True)\n",
    "dataset['salario'] = dataset.salario.apply(lambda sal: sal.replace('$', '')).astype(int)\n",
    "dataset = dataset.drop(\"trabajo\", axis=1)\n",
    "\n",
    "# Se dejan las columnas \"genero\" y \"mascota\" en minusculas y se hace una codificacion para la columna \"genero\".\n",
    "dataset['genero'] = dataset.genero.apply(lambda gen: gen.lower())\n",
    "dataset['mascota'] = dataset.mascota.apply(lambda mas: mas.lower())\n",
    "dataset['genero'] = dataset.genero.apply(codidifcar_genero)\n",
    "\n",
    "dataset.head()"
   ]
  },
  {
   "cell_type": "markdown",
   "metadata": {},
   "source": [
    "## 2. Apps en la Playstore (35p)\n",
    "\n",
    "Google Play Store actualmente posee una enorme cantidad de aplicaciones que pueden ser descargadas por los usuarios. En esta sección utilizará una pequeña parte de dicho universo y trabajará principalmente en análisis exploratorio de los datos para responder las preguntas que verá a continuación. \n",
    "\n",
    "El archivo a utilizar es \"googleplaystore.csv\" y para información extra puede referirse a [este enlace](https://www.kaggle.com/lava18/google-play-store-apps)\n",
    "\n",
    ">PD: Hay 1 fila mala en el dataset, no es difícil de identificar."
   ]
  },
  {
   "cell_type": "markdown",
   "metadata": {},
   "source": [
    ">a) ¿Es posible observar alguna concentración de ratings de las aplicaciones en torno a un intervalo? Si su respuesta es sí, ¿Qué rango/s tiene/n mayor concentración?"
   ]
  },
  {
   "cell_type": "code",
   "execution_count": null,
   "metadata": {},
   "outputs": [],
   "source": []
  },
  {
   "cell_type": "markdown",
   "metadata": {},
   "source": [
    ">b) ¿Qué grupo tiene ratings más dispersos, las aplicaciones que pertenecen a la categoría de \"EDUCATION\" o las que pertenecen a la categoría de \"MEDICAL\"? Utilice al menos 1 recurso visual y 1 medida de tendencia para responder. "
   ]
  },
  {
   "cell_type": "code",
   "execution_count": null,
   "metadata": {},
   "outputs": [],
   "source": []
  },
  {
   "cell_type": "markdown",
   "metadata": {},
   "source": [
    ">c) Construya un boxplot sobre la cantidad de instalaciones de las aplicaciones cuyo rating sea menor a 4 y otro para las aplicacions cuyo rating sea mayor o igual a 4, compare lo que observa. \n",
    "\n",
    "**Hint:** Podría aplicar algún cambio de escala a los valores. ¿Cuál? No log sé. "
   ]
  },
  {
   "cell_type": "code",
   "execution_count": null,
   "metadata": {},
   "outputs": [],
   "source": []
  },
  {
   "cell_type": "markdown",
   "metadata": {},
   "source": [
    ">d) Para cada categoría obtenga el rango, la deviación estándar, varianza del rating y la cantidad de aplicaciones pertenecientes a dicha categoría y responda:\n",
    "\n",
    "* De las aplicaciones de mayor rango (fíjelo usted) ¿Cuáles presentan mayor y menor variabilidad?\n",
    "* ¿Cuál es la principal diferencia entre las aplicaciones cuyo rango es inferior a 2.5 y las cuyo rango es mayor a dicho valor? (Si usted no nota una diferencia significativa es una respuesta válida, siempre y cuando esté fundamentada)\n",
    "* ¿Es posible concluir que las categorías con una mayor cantidad de aplicaciones presentan una mayor variabilidad de rating que aquellas con menos aplicaciones? "
   ]
  },
  {
   "cell_type": "code",
   "execution_count": null,
   "metadata": {},
   "outputs": [],
   "source": []
  },
  {
   "cell_type": "markdown",
   "metadata": {},
   "source": [
    ">e) Responda las siguientes preguntas: \n",
    "\n",
    "* Si mi aplicación pesa mucho ¿es probable que sea mal calificada?\n",
    "* Si mi aplicación tiene una mayor cantidad de instalaciones ¿su rating será más alto?\n",
    "* Si mi app está enfocada en alguna categoría en especial ¿tendrá una mayor cantidad de instalaciones?\n",
    "* ¿Existe alguna categoría donde se aprecien más aplicaciones pagas que gratuitas?\n",
    "\n",
    "Fundamente su respuesta utilizando herramientas visuales o estadísticas. "
   ]
  },
  {
   "cell_type": "code",
   "execution_count": null,
   "metadata": {},
   "outputs": [],
   "source": []
  },
  {
   "cell_type": "markdown",
   "metadata": {},
   "source": [
    ">f) Construya un histograma de los tamaños de las aplicaciones ¿Se aprecia algún tipo de sesgo en la distribución?."
   ]
  },
  {
   "cell_type": "code",
   "execution_count": null,
   "metadata": {},
   "outputs": [],
   "source": []
  },
  {
   "cell_type": "markdown",
   "metadata": {},
   "source": [
    ">g) Haga un histograma para los ratings de cada categoría. ¿Observa algún patrón respecto al sesgo de los histogramas obtenidos?"
   ]
  },
  {
   "cell_type": "code",
   "execution_count": null,
   "metadata": {},
   "outputs": [],
   "source": []
  },
  {
   "cell_type": "markdown",
   "metadata": {},
   "source": [
    ">h) Construya un heatmap (debe investigarlo por su cuenta) de las aplicaciones pagas donde la dimensión de color sea el rating y los ejes sean el precio y el tamaño de la aplicación. Concluya respecto a lo observado."
   ]
  },
  {
   "cell_type": "code",
   "execution_count": null,
   "metadata": {},
   "outputs": [],
   "source": []
  },
  {
   "cell_type": "markdown",
   "metadata": {},
   "source": [
    "## 3. Aproximando el perímetro de una circunferencia (20p)\n",
    "\n",
    "De sus cursos de matemática seguro habrá escuchado acerca de las coordenas polares, un cambio de coordenadas donde representamos los puntos en función de un radio y un ángulo. \n",
    "\n",
    "$$\n",
    "x = r\\cdot cos(\\theta)\n",
    "$$\n",
    "\n",
    "$$\n",
    "y = r\\cdot sin(\\theta)\n",
    "$$\n",
    "\n",
    "Utilizando estas coordenadas, usted posicionará $n$ puntos aleatorios dentro de la circunferencia lo que generará un polígono irregular, para cada $n \\in [4,\\infty]$ elegido debe simular una cantidad suficiente de polígonos (800-1000) que utilizará para aproximar el perímetro de la circunferencia, luego calculará el perímetro promedio y la desviación estándar para cada $n$ utilizado.\n",
    "\n",
    "\n",
    "Una vez haya simulado con varios $n$ distintos grafique el perímetro promedio junto a su margen de error $\\bar{x} \\pm \\sigma$ y el perímetro real de la circunferencia. Utilice la cantidad de lados del polígono como el eje X de su gráfico.\n",
    "\n",
    "> El gráfico involucra 4 lineas: promedio del perímetro, perímetro real, límite superior del error y límite inferior del error.\n",
    "\n",
    "Recuerde explicar cómo utilizará el método de los polígonos para aproximar el perímetro de la circunferencia y concluya a partir de lo que observa en el gráfico.\n",
    "\n",
    "Algunos ejemplos de $n = 5$"
   ]
  },
  {
   "cell_type": "markdown",
   "metadata": {},
   "source": [
    "<table style=\"width:100%\">\n",
    "  <tr>\n",
    "    <th align=\"right\"><img src=\"img/ej1.png\" style=\"float:left;height:120px\"></th>\n",
    "    <th align=\"center\"><img src=\"img/ej2.png\" style=\"float:left;height:120px\"></th> \n",
    "    <th align=\"left\"><img src=\"img/ej3.png\" style=\"float:right;height:120px\"></th>\n",
    "  </tr>\n",
    "    \n",
    "Para facilitar la construcción del polígono se sugiere generar los $n$ puntos y luego conectarlos en sentido antihorario/horario."
   ]
  },
  {
   "cell_type": "code",
   "execution_count": 1,
   "metadata": {
    "scrolled": true
   },
   "outputs": [
    {
     "ename": "ModuleNotFoundError",
     "evalue": "No module named 'matplotlib'",
     "output_type": "error",
     "traceback": [
      "\u001b[1;31m---------------------------------------------------------------------------\u001b[0m",
      "\u001b[1;31mModuleNotFoundError\u001b[0m                       Traceback (most recent call last)",
      "\u001b[1;32m<timed exec>\u001b[0m in \u001b[0;36m<module>\u001b[1;34m\u001b[0m\n",
      "\u001b[1;31mModuleNotFoundError\u001b[0m: No module named 'matplotlib'"
     ]
    }
   ],
   "source": [
    "%%time\n",
    "import numpy as np\n",
    "import math\n",
    "import matplotlib.pyplot as plt\n",
    "\n",
    "def suma_distancia(angulos):\n",
    "    # Esta funcion suma de par en par la distancia entre los puntos\n",
    "    # en el perimetro de la circunferencia de manero antihoraria.\n",
    "    angulos.sort()\n",
    "    sum = 0\n",
    "    for i in range(0, len(angulos)):\n",
    "        if i == len(angulos)-1:\n",
    "            delta_x = math.cos(angulos[i]) - math.cos(angulos[0])\n",
    "            delta_y = math.sin(angulos[i]) - math.sin(angulos[0])\n",
    "            sum += (delta_x**2 + delta_y**2)**0.5\n",
    "        else:\n",
    "            delta_x = math.cos(angulos[i]) - math.cos(angulos[i+1])\n",
    "            delta_y = math.sin(angulos[i]) - math.sin(angulos[i+1])     \n",
    "            sum += (delta_x**2 + delta_y**2)**0.5\n",
    "    return sum\n",
    "\n",
    "prom_perimetro = []\n",
    "desv_est = []\n",
    "valores_n = range(4, 80)\n",
    "for n in valores_n:\n",
    "    perimetros = []\n",
    "    for i in range(0, 1000): \n",
    "        ls_angulos = np.random.uniform(0, 2*math.pi, n)\n",
    "        perimetros.append(suma_distancia(ls_angulos))\n",
    "    np_perimetros = np.asarray(perimetros)\n",
    "    prom_perimetro.append(np_perimetros.mean())\n",
    "    desv_est.append(np_perimetros.std())\n",
    "np_prom = np.asarray(prom_perimetro)\n",
    "np_desv_est = np.asarray(desv_est)\n",
    "\n",
    "plt.plot(valores_n, prom_perimetro, color = 'red', label='Perimetro promedio')\n",
    "plt.plot(valores_n, np_prom + np_desv_est, color = 'green', label='Perimetro promedio + desv')\n",
    "plt.plot(valores_n, np_prom - np_desv_est, color = 'orange', label='Perimetro promedio - desv')\n",
    "plt.axhline(y = 2*math.pi, color = 'blue', label='Perimetro real')\n",
    "plt.xlabel('Cantidad de n')\n",
    "plt.ylabel('Perimetro')\n",
    "plt.title('Perimetro vs cantidad de lados')\n",
    "plt.legend(loc='lower right')\n",
    "\n",
    "plt.show"
   ]
  },
  {
   "cell_type": "markdown",
   "metadata": {},
   "source": [
    "## 4. Bingo Ball (30p)\n",
    "\n",
    "A usted se le ha presentado la oportunidad de ganar un increíble premio que cuesta 10 veces el valor de 1 intento en el juego de de \"Bingo Ball\", el juego consiste en lo siguiente (instrucciones abajo del diagrama)"
   ]
  },
  {
   "cell_type": "markdown",
   "metadata": {},
   "source": [
    "<img src=\"img/game.png\">"
   ]
  },
  {
   "cell_type": "markdown",
   "metadata": {},
   "source": [
    "En el diagrama, los círculos representan \"etapas\" por las que la bolita puede pasar. El funcionamiento del juego es el siguiente:\n",
    "\n",
    "* Usted lanzará 7 bolitas secuencialmente.\n",
    "* Cada bolita llega inicialmente a A, B, C o D (no entre medio o a algún otro lugar). Esto se asume equiprobable a menos que se diga lo contrario.\n",
    "* En cada etapa la bolita tiene la posibilidad de caer hacia la izquierda o a la derecha. Ciertas etapas (relleno amarillo) hacen que la bolita caiga en una única dirección ya que la bolita caería del tablero si no fuera así.\n",
    "* La bolita si o sí pasará por una y solo una etapa de cada fila $F_{i}\\;\\; i \\in [1,4]$ (linea punteada en el diagrama)\n",
    "* Usted ganará el juego si cada zona final (1,2,3,4) es alcanzada al menos 1 vez por cada bolita.\n",
    "\n",
    ">En palabras simples, la bolita va bajando mientras cambia (o no) de dirección al chocar con los puntos negros.\n",
    "\n",
    "\n",
    "A continuación, se presenta un ejemplo del recorrido de una bola:\n",
    "\n",
    "<img src=\"img/game2.png\">"
   ]
  },
  {
   "cell_type": "markdown",
   "metadata": {},
   "source": [
    "Como puede ver, la bola inicialmente llegó a \"A\", luego su recorrido fue: izquierda, derecha (no hay otra opción), derecha, derecha y finalmente llegó a la zona 2.\n",
    "\n",
    "El tablero que se presenta en ambos diagramas es el mismo tablero que deberá simular (es fijo). \n",
    "Considere que $P(irse\\;a\\;la\\;izquierda) = 0.5$ a menos que se indique lo contrario.\n",
    "\n",
    "En base a esto responda:\n",
    "\n",
    ">a) ¿La cantidad de bolitas suministradas es suficiente para poder obtener el premio a un precio menor que el original?\n"
   ]
  },
  {
   "cell_type": "code",
   "execution_count": null,
   "metadata": {},
   "outputs": [],
   "source": []
  },
  {
   "cell_type": "markdown",
   "metadata": {},
   "source": [
    "> b) Para $4 \\leq n \\leq 100$ calcule la probabilidad de ganar el juego al menos 1 vez en función de $n$ bolas. Presente el resultado en un gráfico de Probabilidad v/s $n$.\n",
    "\n",
    "No basta 1 simulación para cada $n$"
   ]
  },
  {
   "cell_type": "code",
   "execution_count": null,
   "metadata": {},
   "outputs": [],
   "source": []
  },
  {
   "cell_type": "markdown",
   "metadata": {},
   "source": [
    ">c) Si a usted le queda 1 bola restante y solamente le falta cubrir la zona 3 determine la zona inicial a la que deberá apuntar el tiro para maximizar la probabilidad de ganar. "
   ]
  },
  {
   "cell_type": "code",
   "execution_count": null,
   "metadata": {},
   "outputs": [],
   "source": []
  },
  {
   "cell_type": "markdown",
   "metadata": {},
   "source": [
    ">d) Determine la probabilidad de alcanzar cada zona final si la bola llega inicialmente a \"A\". Repita el procedimiento pero esta vez utilizando \"C\" como punto de partida."
   ]
  },
  {
   "cell_type": "code",
   "execution_count": null,
   "metadata": {},
   "outputs": [],
   "source": []
  },
  {
   "cell_type": "markdown",
   "metadata": {},
   "source": [
    ">e) Si ahora la bola tiene un 70% de probabilidad de mantener la dirección actual y un 30% de cambiar de dirección ¿Mantiene la respuesta dada en a)?\n",
    "\n",
    "En la zona inicial (A,B,C,D) tiene la misma probabilidad de irse tanto a la izquierda como a la derecha, pero en las siguientes zonas si la bolita fue a la izquierda tiene un 70% de irse a la izquierda y un 30% de irse a la derecha, si después se va a la derecha tiene un 70% de probabilidad de irse a la derecha y así sucesivamente."
   ]
  },
  {
   "cell_type": "code",
   "execution_count": 4,
   "metadata": {},
   "outputs": [],
   "source": []
  },
  {
   "cell_type": "markdown",
   "metadata": {},
   "source": [
    "## Reglas del Juego y Comentarios \n",
    "\n",
    "+ Errores ortográficos, de redacción y oraciones ambiguas descontarán parte de su puntaje.\n",
    "+ Las dudas deberán ser publicadas en moodle para que sus compañeros puedan beneficiarse de la respuesta, no se aceptarán dudas vía correo ni redes sociales, esto es para fomentar que todos tengan la misma información.\n",
    "+ Cada día de atraso descuenta 25 puntos de la nota final con un máximo de dos días de retraso (después es 0).\n",
    "+ La versión de R que se usará para revisar es 3.6.1\n",
    "+ La versión de Python que se usará para revisar es 3.6.8\n",
    "+ Use cualquier librería que estime conveniente, si requiere de instalación explicitarlo en el README (y bien explicitado).\n",
    "+ Código comentado para facilitar entendimiento.\n",
    "+ Sea formal y claro con su respuesta, **explique su procedimiento y luego responda.** \n",
    "+ Defina bien las secciones de su notebook, el orden siempre es bueno :) [Tips para usar Markdown](https://github.com/adam-p/markdown-here/wiki/Markdown-Cheatsheet)"
   ]
  }
 ],
 "metadata": {
  "kernelspec": {
   "display_name": "Python 3",
   "language": "python",
   "name": "python3"
  },
  "language_info": {
   "codemirror_mode": {
    "name": "ipython",
    "version": 3
   },
   "file_extension": ".py",
   "mimetype": "text/x-python",
   "name": "python",
   "nbconvert_exporter": "python",
   "pygments_lexer": "ipython3",
   "version": "3.7.2"
  }
 },
 "nbformat": 4,
 "nbformat_minor": 2
}
