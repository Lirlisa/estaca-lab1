{
 "cells": [
  {
   "cell_type": "markdown",
   "metadata": {},
   "source": [
    "<table style=\"width:100%\">\n",
    "  <tr>\n",
    "    <th align=\"right\"><img src=\"img/dilogo.png\" style=\"float:left;height:90px\"></th>\n",
    "    <th align=\"center\">\n",
    "    <h1 align=\"center\">Laboratorio 1</h1>\n",
    "    <h2 align=\"center\">Profesor: Ricardo Ñanculef</h2>\n",
    "    <h3 align=\"center\">Ayudante: Gabriel Ortega</h3>\n",
    "    <h3 align=\"center\">Estudiante1;rol</h3>\n",
    "    <h3 align=\"center\">Estudiante2;rol</h3>\n",
    "    <h3 align=\"center\">Agosto de 2019</h3>\n",
    "    </th> \n",
    "    <th align=\"left\"><img src=\"img/usmlogo.png\" style=\"float:right;height:85px\"></th>\n",
    "  </tr>"
   ]
  },
  {
   "cell_type": "markdown",
   "metadata": {},
   "source": [
    "> <font size = \"+2\"><b>Antes de corregir se correrá su notebook utilizando la función Cell $\\rightarrow$ Run All.</b></font>\n",
    "\n",
    "\n",
    "## Instrucciones\n",
    "\n",
    "La modalidad de trabajo será mediante el uso de jupyter notebook. El notebook debe ser desarrollado en parejas o individual y ser entregado el 16 de septiembre de 2019.\n",
    "\n",
    "La **modalidad de entrega será un archivo Apellido1_Apellido2_Lab1.zip** que contenga un notebook que incluya todas las preguntas con sus respectivas respuestas, un README que indique la forma correcta de ejecutar su notebook y cualquier archivo/carpeta extra que considere necesario para el correcto funcionamiento de su tarea (no es necesario adjuntar los .csv que se utilicen para trabajar). El laboratorio puede ser trabajado tanto en lenguaje R como en python 3 (para los que usen python 2.X, absténganse a las consecuencias). Lea bien el enunciado.\n",
    "\n",
    "\n",
    "**Cualquier copia detectada implicará nota 0 en el laboratorio correspondiente y se notificará la situación al profesor.**\n",
    "\n",
    "\n"
   ]
  },
  {
   "cell_type": "markdown",
   "metadata": {},
   "source": [
    "## 1. Limpiando Datos (15p)\n",
    "\n",
    "Como se mencionó en la ayudantía de laboratorio, la limpieza de datos es algo importante que se debe realizar antes de trabajar con un conjunto de datos, en esta sección trabajará con el dataset \"limpieza.csv\". Se espera que usted sea capaz de evidenciar las fallas dentro de este dataset y después de realizar la limpieza presente el dataset final resultante para comparar. \n",
    "\n",
    ">**Importante:** Si bien la limpieza es subjetiva, no optará a todo el puntaje de esta sección si presenta una limpieza incompleta (se observa que su dataset final se puede limpiar más a simple vista)."
   ]
  },
  {
   "cell_type": "code",
   "execution_count": 26,
   "metadata": {},
   "outputs": [
    {
     "name": "stdout",
     "output_type": "stream",
     "text": [
      "genero mascota  edad   e_civil estado_trabajo  sueldo\n",
      "     m    gato    44     viud@    dependiente  500000\n",
      "     m      no    70    casad@    dependiente  100000\n",
      "     f      no    54   solter@    dependiente  500000\n",
      "     m   perro    47  separad@  independiente  200000\n",
      "     f    gato    33    casad@    dependiente  500000\n",
      "     m   perro    64    casad@  independiente  200000\n",
      "     m   perro    18     viud@    dependiente  500000\n",
      "     f    gato    67     viud@  independiente  500000\n",
      "     m    gato    45  separad@  independiente  200000\n",
      "     f   perro    40     viud@  independiente  200000\n",
      "     m   perro    48  separad@    dependiente  200000\n",
      "     m    gato    19     viud@    dependiente  500000\n",
      "     f   perro    44     viud@  independiente  300000\n",
      "     f      no    50   solter@  independiente  200000\n",
      "     f    gato    45    casad@  independiente  300000\n",
      "     m    gato    61  separad@  independiente  100000\n",
      "     f    gato    49    casad@  independiente  100000\n",
      "     m   perro    28   solter@    dependiente  500000\n",
      "     f   perro    66    casad@  independiente  500000\n",
      "     m   perro    37  separad@  independiente  200000\n",
      "     f   perro    44    casad@    dependiente  100000\n",
      "     f   perro    41     viud@    dependiente  300000\n",
      "     f    gato    45     viud@    dependiente  500000\n",
      "     m    gato    61     viud@    dependiente  100000\n",
      "     m      no    24     viud@    dependiente  200000\n",
      "     f    gato    68     viud@  independiente  100000\n",
      "     f   perro    30   solter@  independiente  500000\n",
      "     m      no    60    casad@  independiente  100000\n",
      "     m   perro    33    casad@  independiente  100000\n",
      "     f   perro    18    casad@  independiente  300000\n",
      "     f    gato    27    casad@  independiente  100000\n",
      "     m   perro    24   solter@  independiente  500000\n",
      "     f      no    45     viud@    dependiente  200000\n",
      "     f    gato    69  separad@    dependiente  300000\n",
      "     f   perro    70  separad@  independiente  100000\n",
      "     m      no    29     viud@  independiente  500000\n",
      "     m   perro    40    casad@  independiente  100000\n",
      "     m   perro    58   solter@  independiente  300000\n",
      "     f    gato    60  separad@  independiente  300000\n",
      "     f    gato    67  separad@  independiente  200000\n"
     ]
    }
   ],
   "source": [
    "from pandas import read_csv\n",
    "import pandas as pd\n",
    "\n",
    "nom_arc = \"limpieza.csv\"\n",
    "df = read_csv(nom_arc)\n",
    "#Se eliminan las filas que tengan edad 0\n",
    "df = df[df.edad > 0]\n",
    "\n",
    "\n",
    "#Se estandariza el texto en la tabla a minuscula\n",
    "\n",
    "for columna in df:\n",
    "    try:\n",
    "        df[columna] = df[columna].str.lower()\n",
    "    except AttributeError:\n",
    "        pass\n",
    "\n",
    "#Se estandariza la representación del género\n",
    "def codidifcar_genero(gen):\n",
    "    # Codificacion para la columna \"genero\"\n",
    "    if gen in {'hombre', 'masculino'}:\n",
    "        return 'm'\n",
    "    return 'f'    \n",
    "\n",
    "df.genero = df.genero.apply(codidifcar_genero)\n",
    "\n",
    "\n",
    "#Se separa la columna 'trabajo' en 2\n",
    "df[['estado_trabajo', 'sueldo']] = df.trabajo.str.split('/', expand=True)\n",
    "df.sueldo = df.sueldo.apply(lambda sal: sal.replace('$', '')).astype(int)\n",
    "df = df.drop('trabajo', axis=1)\n",
    "\n",
    "\n",
    "#Se estandariza el tipo de los valores en las celdas\n",
    "df.genero = df.genero.astype(str)\n",
    "df.mascota = df.mascota.astype(str)\n",
    "df.edad = df.edad.astype(int)\n",
    "df.estado_trabajo = df.estado_trabajo.astype(str)\n",
    "df.sueldo = df.sueldo.astype(int)\n",
    "df.e_civil = df.e_civil.astype(str)\n",
    "\n",
    "print(df.to_string(index=False))"
   ]
  },
  {
   "cell_type": "markdown",
   "metadata": {},
   "source": [
    "## 2. Apps en la Playstore (35p)\n",
    "\n",
    "Google Play Store actualmente posee una enorme cantidad de aplicaciones que pueden ser descargadas por los usuarios. En esta sección utilizará una pequeña parte de dicho universo y trabajará principalmente en análisis exploratorio de los datos para responder las preguntas que verá a continuación. \n",
    "\n",
    "El archivo a utilizar es \"googleplaystore.csv\" y para información extra puede referirse a [este enlace](https://www.kaggle.com/lava18/google-play-store-apps)\n",
    "\n",
    ">PD: Hay 1 fila mala en el dataset, no es difícil de identificar."
   ]
  },
  {
   "cell_type": "markdown",
   "metadata": {},
   "source": [
    ">a) ¿Es posible observar alguna concentración de ratings de las aplicaciones en torno a un intervalo? Si su respuesta es sí, ¿Qué rango/s tiene/n mayor concentración?"
   ]
  },
  {
   "cell_type": "code",
   "execution_count": null,
   "metadata": {},
   "outputs": [],
   "source": []
  },
  {
   "cell_type": "markdown",
   "metadata": {},
   "source": [
    ">b) ¿Qué grupo tiene ratings más dispersos, las aplicaciones que pertenecen a la categoría de \"EDUCATION\" o las que pertenecen a la categoría de \"MEDICAL\"? Utilice al menos 1 recurso visual y 1 medida de tendencia para responder. "
   ]
  },
  {
   "cell_type": "code",
   "execution_count": null,
   "metadata": {},
   "outputs": [],
   "source": []
  },
  {
   "cell_type": "markdown",
   "metadata": {},
   "source": [
    ">c) Construya un boxplot sobre la cantidad de instalaciones de las aplicaciones cuyo rating sea menor a 4 y otro para las aplicacions cuyo rating sea mayor o igual a 4, compare lo que observa. \n",
    "\n",
    "**Hint:** Podría aplicar algún cambio de escala a los valores. ¿Cuál? No log sé. "
   ]
  },
  {
   "cell_type": "code",
   "execution_count": null,
   "metadata": {},
   "outputs": [],
   "source": []
  },
  {
   "cell_type": "markdown",
   "metadata": {},
   "source": [
    ">d) Para cada categoría obtenga el rango, la deviación estándar, varianza del rating y la cantidad de aplicaciones pertenecientes a dicha categoría y responda:\n",
    "\n",
    "* De las aplicaciones de mayor rango (fíjelo usted) ¿Cuáles presentan mayor y menor variabilidad?\n",
    "* ¿Cuál es la principal diferencia entre las aplicaciones cuyo rango es inferior a 2.5 y las cuyo rango es mayor a dicho valor? (Si usted no nota una diferencia significativa es una respuesta válida, siempre y cuando esté fundamentada)\n",
    "* ¿Es posible concluir que las categorías con una mayor cantidad de aplicaciones presentan una mayor variabilidad de rating que aquellas con menos aplicaciones? "
   ]
  },
  {
   "cell_type": "code",
   "execution_count": null,
   "metadata": {},
   "outputs": [],
   "source": []
  },
  {
   "cell_type": "markdown",
   "metadata": {},
   "source": [
    ">e) Responda las siguientes preguntas: \n",
    "\n",
    "* Si mi aplicación pesa mucho ¿es probable que sea mal calificada?\n",
    "* Si mi aplicación tiene una mayor cantidad de instalaciones ¿su rating será más alto?\n",
    "* Si mi app está enfocada en alguna categoría en especial ¿tendrá una mayor cantidad de instalaciones?\n",
    "* ¿Existe alguna categoría donde se aprecien más aplicaciones pagas que gratuitas?\n",
    "\n",
    "Fundamente su respuesta utilizando herramientas visuales o estadísticas. "
   ]
  },
  {
   "cell_type": "code",
   "execution_count": null,
   "metadata": {},
   "outputs": [],
   "source": []
  },
  {
   "cell_type": "markdown",
   "metadata": {},
   "source": [
    ">f) Construya un histograma de los tamaños de las aplicaciones ¿Se aprecia algún tipo de sesgo en la distribución?."
   ]
  },
  {
   "cell_type": "code",
   "execution_count": null,
   "metadata": {},
   "outputs": [],
   "source": []
  },
  {
   "cell_type": "markdown",
   "metadata": {},
   "source": [
    ">g) Haga un histograma para los ratings de cada categoría. ¿Observa algún patrón respecto al sesgo de los histogramas obtenidos?"
   ]
  },
  {
   "cell_type": "code",
   "execution_count": null,
   "metadata": {},
   "outputs": [],
   "source": []
  },
  {
   "cell_type": "markdown",
   "metadata": {},
   "source": [
    ">h) Construya un heatmap (debe investigarlo por su cuenta) de las aplicaciones pagas donde la dimensión de color sea el rating y los ejes sean el precio y el tamaño de la aplicación. Concluya respecto a lo observado."
   ]
  },
  {
   "cell_type": "code",
   "execution_count": null,
   "metadata": {},
   "outputs": [],
   "source": []
  },
  {
   "cell_type": "markdown",
   "metadata": {},
   "source": [
    "## 3. Aproximando el perímetro de una circunferencia (20p)\n",
    "\n",
    "De sus cursos de matemática seguro habrá escuchado acerca de las coordenas polares, un cambio de coordenadas donde representamos los puntos en función de un radio y un ángulo. \n",
    "\n",
    "$$\n",
    "x = r\\cdot cos(\\theta)\n",
    "$$\n",
    "\n",
    "$$\n",
    "y = r\\cdot sin(\\theta)\n",
    "$$\n",
    "\n",
    "Utilizando estas coordenadas, usted posicionará $n$ puntos aleatorios dentro de la circunferencia lo que generará un polígono irregular, para cada $n \\in [4,\\infty]$ elegido debe simular una cantidad suficiente de polígonos (800-1000) que utilizará para aproximar el perímetro de la circunferencia, luego calculará el perímetro promedio y la desviación estándar para cada $n$ utilizado.\n",
    "\n",
    "\n",
    "Una vez haya simulado con varios $n$ distintos grafique el perímetro promedio junto a su margen de error $\\bar{x} \\pm \\sigma$ y el perímetro real de la circunferencia. Utilice la cantidad de lados del polígono como el eje X de su gráfico.\n",
    "\n",
    "> El gráfico involucra 4 lineas: promedio del perímetro, perímetro real, límite superior del error y límite inferior del error.\n",
    "\n",
    "Recuerde explicar cómo utilizará el método de los polígonos para aproximar el perímetro de la circunferencia y concluya a partir de lo que observa en el gráfico.\n",
    "\n",
    "Algunos ejemplos de $n = 5$"
   ]
  },
  {
   "cell_type": "markdown",
   "metadata": {},
   "source": [
    "<table style=\"width:100%\">\n",
    "  <tr>\n",
    "    <th align=\"right\"><img src=\"img/ej1.png\" style=\"float:left;height:120px\"></th>\n",
    "    <th align=\"center\"><img src=\"img/ej2.png\" style=\"float:left;height:120px\"></th> \n",
    "    <th align=\"left\"><img src=\"img/ej3.png\" style=\"float:right;height:120px\"></th>\n",
    "  </tr>\n",
    "    \n",
    "Para facilitar la construcción del polígono se sugiere generar los $n$ puntos y luego conectarlos en sentido antihorario/horario."
   ]
  },
  {
   "cell_type": "code",
   "execution_count": null,
   "metadata": {},
   "outputs": [],
   "source": []
  },
  {
   "cell_type": "markdown",
   "metadata": {},
   "source": [
    "## 4. Bingo Ball (30p)\n",
    "\n",
    "A usted se le ha presentado la oportunidad de ganar un increíble premio que cuesta 10 veces el valor de 1 intento en el juego de de \"Bingo Ball\", el juego consiste en lo siguiente (instrucciones abajo del diagrama)"
   ]
  },
  {
   "cell_type": "markdown",
   "metadata": {},
   "source": [
    "<img src=\"img/game.png\">"
   ]
  },
  {
   "cell_type": "markdown",
   "metadata": {},
   "source": [
    "En el diagrama, los círculos representan \"etapas\" por las que la bolita puede pasar. El funcionamiento del juego es el siguiente:\n",
    "\n",
    "* Usted lanzará 7 bolitas secuencialmente.\n",
    "* Cada bolita llega inicialmente a A, B, C o D (no entre medio o a algún otro lugar). Esto se asume equiprobable a menos que se diga lo contrario.\n",
    "* En cada etapa la bolita tiene la posibilidad de caer hacia la izquierda o a la derecha. Ciertas etapas (relleno amarillo) hacen que la bolita caiga en una única dirección ya que la bolita caería del tablero si no fuera así.\n",
    "* La bolita si o sí pasará por una y solo una etapa de cada fila $F_{i}\\;\\; i \\in [1,4]$ (linea punteada en el diagrama)\n",
    "* Usted ganará el juego si cada zona final (1,2,3,4) es alcanzada al menos 1 vez por cada bolita.\n",
    "\n",
    ">En palabras simples, la bolita va bajando mientras cambia (o no) de dirección al chocar con los puntos negros.\n",
    "\n",
    "\n",
    "A continuación, se presenta un ejemplo del recorrido de una bola:\n",
    "\n",
    "<img src=\"img/game2.png\">"
   ]
  },
  {
   "cell_type": "markdown",
   "metadata": {},
   "source": [
    "Como puede ver, la bola inicialmente llegó a \"A\", luego su recorrido fue: izquierda, derecha (no hay otra opción), derecha, derecha y finalmente llegó a la zona 2.\n",
    "\n",
    "El tablero que se presenta en ambos diagramas es el mismo tablero que deberá simular (es fijo). \n",
    "Considere que $P(irse\\;a\\;la\\;izquierda) = 0.5$ a menos que se indique lo contrario.\n",
    "\n",
    "En base a esto responda:\n",
    "\n",
    ">a) ¿La cantidad de bolitas suministradas es suficiente para poder obtener el premio a un precio menor que el original?\n"
   ]
  },
  {
   "cell_type": "code",
   "execution_count": 11,
   "metadata": {},
   "outputs": [
    {
     "name": "stdout",
     "output_type": "stream",
     "text": [
      "1.8046664164828227e-07\n"
     ]
    }
   ],
   "source": [
    "\n",
    "#dado que todos los nodos salen a sus vecinos con la misma probabilidad\n",
    "#se puede representar a cada nodo con el valor de su arco\n",
    "juego =[\n",
    "        [0.25],\n",
    "        [0.5, 0.5, 0.5, 0.5],\n",
    "        [1, 0.5, 0.5, 0.5, 1],\n",
    "        [0.5, 0.5, 0.5, 0.5],\n",
    "        [1, 0.5, 0.5, 0.5, 1]\n",
    "    ]\n",
    "\n",
    "def p_aux(tupla):\n",
    "    #print(tupla)\n",
    "    if tupla == (0, 0):\n",
    "        return 1\n",
    "    \n",
    "    i, j = tupla\n",
    "    \n",
    "    if i == 1:\n",
    "        return juego[0][0]*p_aux((0, 0))\n",
    "    \n",
    "    if i%2 != 0:\n",
    "        return juego[i-1][j]*p_aux((i-1, j)) + juego[i-1][j+1]*p_aux((i-1, j+1))\n",
    "    \n",
    "\n",
    "    if j == 0:\n",
    "        return juego[i-1][j]*p_aux((i-1, j))\n",
    "    elif j == 4:\n",
    "        return juego[i-1][j-1]*p_aux((i-1, j-1))\n",
    "    else:\n",
    "        return juego[i-1][j]*p_aux((i-1, j)) + juego[i-1][j-1]*p_aux((i-1, j-1))\n",
    "    \n",
    "    \n",
    "    \n",
    "def p(tupla):\n",
    "    if tupla == (5, 0):\n",
    "        return juego[4][0]*p_aux((4, 0)) + juego[4][1]*p_aux((4, 1))\n",
    "    if tupla == (5, 1):\n",
    "        return juego[4][1]*p_aux((4, 1)) + juego[4][2]*p_aux((4, 2))\n",
    "    if tupla == (5, 2):\n",
    "        return juego[4][2]*p_aux((4, 2)) + juego[4][3]*p_aux((4, 3))\n",
    "    if tupla == (5, 3):\n",
    "        return juego[4][3]*p_aux((4, 3)) + juego[4][4]*p_aux((4, 4))\n",
    "    \n",
    "#la probabilidad de que salga al menos 1 de cada una en 7 intentos\n",
    "#es la suma de todas las posibles 7-tuplas que se pueden generar\n",
    "#donde cada bola sale una vez\n",
    "#dado que ya sabemos que todas las probabilidades finales son 0.25\n",
    "\n",
    "from math import factorial\n",
    "\n",
    "#dado que cada bola tienen un 0,25 de probabilidades de aparecer, toda sucesión\n",
    "#de 7 bolas tiene una probabilidad de 0,25^7 de aparecer. Si se multiplica\n",
    "#esa probabilidad por la combinación con repetición de todas suceciones donde\n",
    "#hay al menos una bola de cada una, nos queda la probabilidad de ganar una partida\n",
    "prob = p((5, 0))\n",
    "partida = (prob**7)*factorial(7+4-1)/(factorial(7)*factorial(4-1))\n",
    "\n",
    "\n",
    "#Ya que se sabe la probabilidad de ganar una partida, podemos calcular la probabilidad de ganar antes de 10\n",
    "#intentos.\n",
    "#Esto se realiza sumando las probabilidades de ganar 1 vez con 1 intento, más ganar 1 vez en 2 intentos, hasta\n",
    "#la probabilidad de ganar 1 vez en 9 intentos, cada probabilidad es calculada por ditribución binomial\n",
    "prob_total=0\n",
    "for i in range(1, 10):\n",
    "    prob_total+=(factorial(i)/(factorial(i-1)*factorial(1)))*(partida**1)*((1-partida)**(i-1))\n",
    "    \n",
    "print(prob_total)"
   ]
  },
  {
   "cell_type": "markdown",
   "metadata": {},
   "source": [
    "> b) Para $4 \\leq n \\leq 100$ calcule la probabilidad de ganar el juego al menos 1 vez en función de $n$ bolas. Presente el resultado en un gráfico de Probabilidad v/s $n$.\n",
    "\n",
    "No basta 1 simulación para cada $n$"
   ]
  },
  {
   "cell_type": "code",
   "execution_count": 16,
   "metadata": {},
   "outputs": [
    {
     "data": {
      "image/png": "[encoded data removed]",
      "text/plain": [
       "<Figure size 432x288 with 1 Axes>"
      ]
     },
     "metadata": {
      "needs_background": "light"
     },
     "output_type": "display_data"
    }
   ],
   "source": [
    "import numpy as np\n",
    "import math\n",
    "import matplotlib.pyplot as plt\n",
    "\n",
    "\n",
    "prob = 0.25\n",
    "probabilidades = [(prob**i)*factorial(i+4-1)/(factorial(i)*factorial(4-1)) for i in range(5, 101)]\n",
    "\n",
    "prob_total=0\n",
    "valores = []\n",
    "for pos in range(len(probabilidades)):\n",
    "    valores.append(0)\n",
    "    for i in range(1, 10):\n",
    "        valores[pos]+=(factorial(i)/(factorial(i-1)*factorial(1)))*(probabilidades[pos]**1)*((1-probabilidades[pos])**(i-1))\n",
    "\n",
    "\n",
    "plt.plot(range(5, 101), valores, color = 'red')\n",
    "plt.xlabel('Cantidad de n')\n",
    "plt.ylabel('probabilidad')\n",
    "plt.title('Probabilidad v/s n')\n",
    "\n",
    "plt.show()"
   ]
  },
  {
   "cell_type": "markdown",
   "metadata": {},
   "source": [
    ">c) Si a usted le queda 1 bola restante y solamente le falta cubrir la zona 3 determine la zona inicial a la que deberá apuntar el tiro para maximizar la probabilidad de ganar. "
   ]
  },
  {
   "cell_type": "code",
   "execution_count": null,
   "metadata": {},
   "outputs": [],
   "source": []
  },
  {
   "cell_type": "markdown",
   "metadata": {},
   "source": [
    ">d) Determine la probabilidad de alcanzar cada zona final si la bola llega inicialmente a \"A\". Repita el procedimiento pero esta vez utilizando \"C\" como punto de partida."
   ]
  },
  {
   "cell_type": "code",
   "execution_count": null,
   "metadata": {},
   "outputs": [],
   "source": []
  },
  {
   "cell_type": "markdown",
   "metadata": {},
   "source": [
    ">e) Si ahora la bola tiene un 70% de probabilidad de mantener la dirección actual y un 30% de cambiar de dirección ¿Mantiene la respuesta dada en a)?\n",
    "\n",
    "En la zona inicial (A,B,C,D) tiene la misma probabilidad de irse tanto a la izquierda como a la derecha, pero en las siguientes zonas si la bolita fue a la izquierda tiene un 70% de irse a la izquierda y un 30% de irse a la derecha, si después se va a la derecha tiene un 70% de probabilidad de irse a la derecha y así sucesivamente."
   ]
  },
  {
   "cell_type": "code",
   "execution_count": null,
   "metadata": {},
   "outputs": [],
   "source": []
  },
  {
   "cell_type": "markdown",
   "metadata": {},
   "source": [
    "## Reglas del Juego y Comentarios \n",
    "\n",
    "+ Errores ortográficos, de redacción y oraciones ambiguas descontarán parte de su puntaje.\n",
    "+ Las dudas deberán ser publicadas en moodle para que sus compañeros puedan beneficiarse de la respuesta, no se aceptarán dudas vía correo ni redes sociales, esto es para fomentar que todos tengan la misma información.\n",
    "+ Cada día de atraso descuenta 25 puntos de la nota final con un máximo de dos días de retraso (después es 0).\n",
    "+ La versión de R que se usará para revisar es 3.6.1\n",
    "+ La versión de Python que se usará para revisar es 3.6.8\n",
    "+ Use cualquier librería que estime conveniente, si requiere de instalación explicitarlo en el README (y bien explicitado).\n",
    "+ Código comentado para facilitar entendimiento.\n",
    "+ Sea formal y claro con su respuesta, **explique su procedimiento y luego responda.** \n",
    "+ Defina bien las secciones de su notebook, el orden siempre es bueno :) [Tips para usar Markdown](https://github.com/adam-p/markdown-here/wiki/Markdown-Cheatsheet)"
   ]
  }
 ],
 "metadata": {
  "kernelspec": {
   "display_name": "Python 3",
   "language": "python",
   "name": "python3"
  },
  "language_info": {
   "codemirror_mode": {
    "name": "ipython",
    "version": 3
   },
   "file_extension": ".py",
   "mimetype": "text/x-python",
   "name": "python",
   "nbconvert_exporter": "python",
   "pygments_lexer": "ipython3",
   "version": "3.7.2"
  }
 },
 "nbformat": 4,
 "nbformat_minor": 2
}
